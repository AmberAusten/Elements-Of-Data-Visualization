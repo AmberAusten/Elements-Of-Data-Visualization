{
  "cells": [
    {
      "cell_type": "code",
      "source": [
        ""
      ],
      "metadata": {
        "id": "MX-UGx-nVJkd"
      },
      "execution_count": 516,
      "outputs": []
    },
    {
      "cell_type": "markdown",
      "metadata": {
        "id": "b1Hggh2bVFwZ"
      },
      "source": [
        "# UFO report by < kav835 >\n",
        "Modify this cell by placing your eid in the space above. "
      ]
    },
    {
      "cell_type": "markdown",
      "metadata": {
        "id": "O0a3RWYcVFwe"
      },
      "source": [
        "## Homework 1\n",
        "You are a UFO researcher and have just obtained some **TOP SECRET** government data. The data contain sighting information including location, shape and source of the information. Use your pandas skills to investigate the data. Turn in this notebook as your report. Follow the directions and answer the questions. Edit the code cells to create pandas and matplotlib solutions to the questions. The first cell loads the data into a data frame called `df_sightings`. The rest is up to you.\n",
        "\n",
        "The truth is out there..."
      ]
    },
    {
      "cell_type": "code",
      "execution_count": 517,
      "metadata": {
        "colab": {
          "base_uri": "https://localhost:8080/",
          "height": 206
        },
        "id": "Ofn_fekNVFwf",
        "outputId": "92930ec2-5a9d-44a2-8cf5-d5391832c1f9"
      },
      "outputs": [
        {
          "output_type": "execute_result",
          "data": {
            "text/html": [
              "\n",
              "  <div id=\"df-a65408a3-f12d-43c6-af8c-29b21f6045b6\">\n",
              "    <div class=\"colab-df-container\">\n",
              "      <div>\n",
              "<style scoped>\n",
              "    .dataframe tbody tr th:only-of-type {\n",
              "        vertical-align: middle;\n",
              "    }\n",
              "\n",
              "    .dataframe tbody tr th {\n",
              "        vertical-align: top;\n",
              "    }\n",
              "\n",
              "    .dataframe thead th {\n",
              "        text-align: right;\n",
              "    }\n",
              "</style>\n",
              "<table border=\"1\" class=\"dataframe\">\n",
              "  <thead>\n",
              "    <tr style=\"text-align: right;\">\n",
              "      <th></th>\n",
              "      <th>Event.Date</th>\n",
              "      <th>Shape</th>\n",
              "      <th>Location</th>\n",
              "      <th>State</th>\n",
              "      <th>Country</th>\n",
              "      <th>Source</th>\n",
              "    </tr>\n",
              "  </thead>\n",
              "  <tbody>\n",
              "    <tr>\n",
              "      <th>0</th>\n",
              "      <td>6/18/16</td>\n",
              "      <td>Boomerang/V-Shaped</td>\n",
              "      <td>South Barrington</td>\n",
              "      <td>IL</td>\n",
              "      <td>USA</td>\n",
              "      <td>NUFORC</td>\n",
              "    </tr>\n",
              "    <tr>\n",
              "      <th>1</th>\n",
              "      <td>6/17/16</td>\n",
              "      <td>Boomerang/V-Shaped</td>\n",
              "      <td>Kuna</td>\n",
              "      <td>ID</td>\n",
              "      <td>USA</td>\n",
              "      <td>NUFORC</td>\n",
              "    </tr>\n",
              "    <tr>\n",
              "      <th>2</th>\n",
              "      <td>5/30/16</td>\n",
              "      <td>Boomerang/V-Shaped</td>\n",
              "      <td>Lake Stevens</td>\n",
              "      <td>WA</td>\n",
              "      <td>USA</td>\n",
              "      <td>NUFORC</td>\n",
              "    </tr>\n",
              "    <tr>\n",
              "      <th>3</th>\n",
              "      <td>5/27/16</td>\n",
              "      <td>Boomerang/V-Shaped</td>\n",
              "      <td>Gerber</td>\n",
              "      <td>CA</td>\n",
              "      <td>USA</td>\n",
              "      <td>NUFORC</td>\n",
              "    </tr>\n",
              "    <tr>\n",
              "      <th>4</th>\n",
              "      <td>5/24/16</td>\n",
              "      <td>Boomerang/V-Shaped</td>\n",
              "      <td>Camdenton</td>\n",
              "      <td>MO</td>\n",
              "      <td>USA</td>\n",
              "      <td>NUFORC</td>\n",
              "    </tr>\n",
              "  </tbody>\n",
              "</table>\n",
              "</div>\n",
              "      <button class=\"colab-df-convert\" onclick=\"convertToInteractive('df-a65408a3-f12d-43c6-af8c-29b21f6045b6')\"\n",
              "              title=\"Convert this dataframe to an interactive table.\"\n",
              "              style=\"display:none;\">\n",
              "        \n",
              "  <svg xmlns=\"http://www.w3.org/2000/svg\" height=\"24px\"viewBox=\"0 0 24 24\"\n",
              "       width=\"24px\">\n",
              "    <path d=\"M0 0h24v24H0V0z\" fill=\"none\"/>\n",
              "    <path d=\"M18.56 5.44l.94 2.06.94-2.06 2.06-.94-2.06-.94-.94-2.06-.94 2.06-2.06.94zm-11 1L8.5 8.5l.94-2.06 2.06-.94-2.06-.94L8.5 2.5l-.94 2.06-2.06.94zm10 10l.94 2.06.94-2.06 2.06-.94-2.06-.94-.94-2.06-.94 2.06-2.06.94z\"/><path d=\"M17.41 7.96l-1.37-1.37c-.4-.4-.92-.59-1.43-.59-.52 0-1.04.2-1.43.59L10.3 9.45l-7.72 7.72c-.78.78-.78 2.05 0 2.83L4 21.41c.39.39.9.59 1.41.59.51 0 1.02-.2 1.41-.59l7.78-7.78 2.81-2.81c.8-.78.8-2.07 0-2.86zM5.41 20L4 18.59l7.72-7.72 1.47 1.35L5.41 20z\"/>\n",
              "  </svg>\n",
              "      </button>\n",
              "      \n",
              "  <style>\n",
              "    .colab-df-container {\n",
              "      display:flex;\n",
              "      flex-wrap:wrap;\n",
              "      gap: 12px;\n",
              "    }\n",
              "\n",
              "    .colab-df-convert {\n",
              "      background-color: #E8F0FE;\n",
              "      border: none;\n",
              "      border-radius: 50%;\n",
              "      cursor: pointer;\n",
              "      display: none;\n",
              "      fill: #1967D2;\n",
              "      height: 32px;\n",
              "      padding: 0 0 0 0;\n",
              "      width: 32px;\n",
              "    }\n",
              "\n",
              "    .colab-df-convert:hover {\n",
              "      background-color: #E2EBFA;\n",
              "      box-shadow: 0px 1px 2px rgba(60, 64, 67, 0.3), 0px 1px 3px 1px rgba(60, 64, 67, 0.15);\n",
              "      fill: #174EA6;\n",
              "    }\n",
              "\n",
              "    [theme=dark] .colab-df-convert {\n",
              "      background-color: #3B4455;\n",
              "      fill: #D2E3FC;\n",
              "    }\n",
              "\n",
              "    [theme=dark] .colab-df-convert:hover {\n",
              "      background-color: #434B5C;\n",
              "      box-shadow: 0px 1px 3px 1px rgba(0, 0, 0, 0.15);\n",
              "      filter: drop-shadow(0px 1px 2px rgba(0, 0, 0, 0.3));\n",
              "      fill: #FFFFFF;\n",
              "    }\n",
              "  </style>\n",
              "\n",
              "      <script>\n",
              "        const buttonEl =\n",
              "          document.querySelector('#df-a65408a3-f12d-43c6-af8c-29b21f6045b6 button.colab-df-convert');\n",
              "        buttonEl.style.display =\n",
              "          google.colab.kernel.accessAllowed ? 'block' : 'none';\n",
              "\n",
              "        async function convertToInteractive(key) {\n",
              "          const element = document.querySelector('#df-a65408a3-f12d-43c6-af8c-29b21f6045b6');\n",
              "          const dataTable =\n",
              "            await google.colab.kernel.invokeFunction('convertToInteractive',\n",
              "                                                     [key], {});\n",
              "          if (!dataTable) return;\n",
              "\n",
              "          const docLinkHtml = 'Like what you see? Visit the ' +\n",
              "            '<a target=\"_blank\" href=https://colab.research.google.com/notebooks/data_table.ipynb>data table notebook</a>'\n",
              "            + ' to learn more about interactive tables.';\n",
              "          element.innerHTML = '';\n",
              "          dataTable['output_type'] = 'display_data';\n",
              "          await google.colab.output.renderOutput(dataTable, element);\n",
              "          const docLink = document.createElement('div');\n",
              "          docLink.innerHTML = docLinkHtml;\n",
              "          element.appendChild(docLink);\n",
              "        }\n",
              "      </script>\n",
              "    </div>\n",
              "  </div>\n",
              "  "
            ],
            "text/plain": [
              "  Event.Date                Shape           Location State Country  Source\n",
              "0    6/18/16  Boomerang/V-Shaped   South Barrington    IL     USA   NUFORC\n",
              "1    6/17/16  Boomerang/V-Shaped               Kuna    ID     USA   NUFORC\n",
              "2    5/30/16  Boomerang/V-Shaped       Lake Stevens    WA     USA   NUFORC\n",
              "3    5/27/16  Boomerang/V-Shaped             Gerber    CA     USA   NUFORC\n",
              "4    5/24/16  Boomerang/V-Shaped          Camdenton    MO     USA   NUFORC"
            ]
          },
          "metadata": {},
          "execution_count": 517
        }
      ],
      "source": [
        "# this cell loads the ufo data (the file should be in the same directory as this notebook)\n",
        "import pandas as pd\n",
        "import numpy as np\n",
        "import matplotlib.pyplot as plt\n",
        "#\n",
        "filename = 'ufo_location_shape.csv'\n",
        "df_sightings = pd.read_csv(filename)\n",
        "df_sightings.head()"
      ]
    },
    {
      "cell_type": "markdown",
      "metadata": {
        "id": "IDJUNgAXVFwt"
      },
      "source": [
        "## Data Exploration\n",
        "\n",
        "Answer the following questions about the data in the csv file.  Your answer should be readable, and the only number in the output for the cell.\n",
        "\n",
        "<p>How large is the data? How many rows and columns are there? What are the column names or keys?Use the cell below to create python code that prints the answer to the question</p>\n",
        "This question is worth 1 pt."
      ]
    },
    {
      "cell_type": "markdown",
      "metadata": {
        "id": "jyrkKJsNVFwu"
      },
      "source": [
        "### Question 1\n",
        "\n",
        "How many sightings are in the `df_sightings`? "
      ]
    },
    {
      "cell_type": "code",
      "execution_count": 518,
      "metadata": {
        "id": "juG2juNFVFwu",
        "colab": {
          "base_uri": "https://localhost:8080/"
        },
        "outputId": "747893f2-e794-43ac-f0ed-31178bc901ca"
      },
      "outputs": [
        {
          "output_type": "execute_result",
          "data": {
            "text/plain": [
              "3646"
            ]
          },
          "metadata": {},
          "execution_count": 518
        }
      ],
      "source": [
        "len(df_sightings)"
      ]
    },
    {
      "cell_type": "markdown",
      "metadata": {
        "id": "4MqX2aMQVFwv"
      },
      "source": [
        "### Question 2 \n",
        "\n",
        "How many columns are there in the `df_sightings`? "
      ]
    },
    {
      "cell_type": "code",
      "execution_count": 519,
      "metadata": {
        "id": "SaCc9hPGVFww",
        "colab": {
          "base_uri": "https://localhost:8080/"
        },
        "outputId": "7deea480-3eb5-44f5-8112-48762802d516"
      },
      "outputs": [
        {
          "output_type": "execute_result",
          "data": {
            "text/plain": [
              "6"
            ]
          },
          "metadata": {},
          "execution_count": 519
        }
      ],
      "source": [
        "len(df_sightings.dtypes)"
      ]
    },
    {
      "cell_type": "markdown",
      "metadata": {
        "id": "jsnpvnUqVFwx"
      },
      "source": [
        "### Question 3\n",
        "\n",
        "What are the column names?  Format the output such that there is one column name per line."
      ]
    },
    {
      "cell_type": "code",
      "execution_count": 520,
      "metadata": {
        "id": "e5Ha9jaeVFwy",
        "colab": {
          "base_uri": "https://localhost:8080/"
        },
        "outputId": "5acd27d7-1fad-46d2-afa7-c2756aa9364f"
      },
      "outputs": [
        {
          "output_type": "stream",
          "name": "stdout",
          "text": [
            "Event.Date\n",
            "Shape\n",
            "Location\n",
            "State\n",
            "Country\n",
            "Source\n"
          ]
        }
      ],
      "source": [
        "df_sightings.dtypes\n",
        "for column in (df_sightings.columns):\n",
        "  print(column)"
      ]
    },
    {
      "cell_type": "markdown",
      "metadata": {
        "id": "xjFcsooTVFwy"
      },
      "source": [
        "### Question 4\n",
        "\n",
        "List the unique countries where sightings occurred. Format the output such that there is one country name  per line. Only list valid countries (invalid country names will be easy to spot). \n",
        "\n",
        "You will notice our old friend from the tutorial pop up, `nan`.  By default when you read in a csv file, any of the following values in cells are filled with the numpy `nan` value:  ‘’, ‘#N/A’, ‘#N/A N/A’, ‘#NA’, ‘-1.#IND’, ‘-1.#QNAN’, ‘-NaN’, ‘-nan’, ‘1.#IND’, ‘1.#QNAN’, ‘<NA>’, ‘N/A’, ‘NA’, ‘NULL’, ‘NaN’, ‘n/a’, ‘nan’, ‘null’.\n",
        "    \n",
        "You can drop `nan` from a series using the `dropna` [method](https://pandas.pydata.org/pandas-docs/stable/reference/api/pandas.Series.dropna.html). \n",
        "    \n",
        "Use the iterator [iteritems](https://pandas.pydata.org/pandas-docs/stable/reference/api/pandas.Series.iteritems.html) to loop through a series. Use the function [drop_duplicates](https://pandas.pydata.org/pandas-docs/stable/reference/api/pandas.Series.drop_duplicates.html) to remove duplicates from a series. \n"
      ]
    },
    {
      "cell_type": "code",
      "execution_count": 521,
      "metadata": {
        "id": "Hqf1lQzcVFwz",
        "colab": {
          "base_uri": "https://localhost:8080/"
        },
        "outputId": "3c007584-ce61-4653-b09e-822014197fac"
      },
      "outputs": [
        {
          "output_type": "execute_result",
          "data": {
            "text/plain": [
              "0                                  USA \n",
              "34                              Canada \n",
              "36                               India \n",
              "37                              Norway \n",
              "173                           Wales/UK \n",
              "174                              China \n",
              "606                         England/UK \n",
              "608                        Philippines \n",
              "612                               Iran \n",
              "616                            Unknown \n",
              "617                          Mauritius \n",
              "618                          Australia \n",
              "624                 Dominican Republic \n",
              "625                          Gibralter \n",
              "642                        New Zealand \n",
              "643                       South Africa \n",
              "714                              Kenya \n",
              "875                             Israel \n",
              "881                              Japan \n",
              "885                             Mexico \n",
              "890                        Netherlands \n",
              "892                        Puerto Rico \n",
              "2160                         Lithuania \n",
              "2166                         Indonesia \n",
              "2169                          Portugal \n",
              "2209                           Ireland \n",
              "2216                          Thailand \n",
              "2227                            Brazil \n",
              "2228                             Chile \n",
              "2558                          Cambodia \n",
              "2561                          Pakistan \n",
              "2565    The Bahamas (Bermuda triangle) \n",
              "2571                            Sweden \n",
              "2809                           Finland \n",
              "2814                            Turkey \n",
              "2815                             Italy \n",
              "2941                           Croatia \n",
              "3370                         Argentina \n",
              "3379                             Spain \n",
              "3381                   South Australia \n",
              "3388                           Germany \n",
              "3645                             Tonga \n",
              "Name: Country, dtype: object"
            ]
          },
          "metadata": {},
          "execution_count": 521
        }
      ],
      "source": [
        "#part one, not the final answer \n",
        "df_countries = df_sightings['Country']\n",
        "df_countries.drop_duplicates().dropna()\n"
      ]
    },
    {
      "cell_type": "code",
      "source": [
        "#Answer cell\n",
        "for index,value in df_countries.drop_duplicates().dropna().items():\n",
        "  if(country != 'Unknown '):\n",
        "    print(value)"
      ],
      "metadata": {
        "colab": {
          "base_uri": "https://localhost:8080/"
        },
        "id": "FAYk1BQpvmSm",
        "outputId": "51904168-2b34-49bc-876f-8323e1d415d5"
      },
      "execution_count": 522,
      "outputs": [
        {
          "output_type": "stream",
          "name": "stdout",
          "text": [
            "USA \n",
            "Canada \n",
            "India \n",
            "Norway \n",
            "Wales/UK \n",
            "China \n",
            "England/UK \n",
            "Philippines \n",
            "Iran \n",
            "Unknown \n",
            "Mauritius \n",
            "Australia \n",
            "Dominican Republic \n",
            "Gibralter \n",
            "New Zealand \n",
            "South Africa \n",
            "Kenya \n",
            "Israel \n",
            "Japan \n",
            "Mexico \n",
            "Netherlands \n",
            "Puerto Rico \n",
            "Lithuania \n",
            "Indonesia \n",
            "Portugal \n",
            "Ireland \n",
            "Thailand \n",
            "Brazil \n",
            "Chile \n",
            "Cambodia \n",
            "Pakistan \n",
            "The Bahamas (Bermuda triangle) \n",
            "Sweden \n",
            "Finland \n",
            "Turkey \n",
            "Italy \n",
            "Croatia \n",
            "Argentina \n",
            "Spain \n",
            "South Australia \n",
            "Germany \n",
            "Tonga \n"
          ]
        }
      ]
    },
    {
      "cell_type": "markdown",
      "metadata": {
        "id": "TkTSFsA-VFw0"
      },
      "source": [
        "### Question 5\n",
        "\n",
        "For only sightings that occurred in the USA, list the unique state names. Format the output such that there is one US State name per line."
      ]
    },
    {
      "cell_type": "code",
      "execution_count": 523,
      "metadata": {
        "id": "s3dRJp4YVFw0",
        "colab": {
          "base_uri": "https://localhost:8080/"
        },
        "outputId": "f3216938-05eb-43de-ed61-d0fda72c7c23"
      },
      "outputs": [
        {
          "output_type": "execute_result",
          "data": {
            "text/plain": [
              "0        True\n",
              "1        True\n",
              "2        True\n",
              "3        True\n",
              "4        True\n",
              "        ...  \n",
              "3641    False\n",
              "3642    False\n",
              "3643    False\n",
              "3644    False\n",
              "3645    False\n",
              "Name: Country, Length: 3646, dtype: bool"
            ]
          },
          "metadata": {},
          "execution_count": 523
        }
      ],
      "source": [
        "df_sightings['Country'] == 'USA '"
      ]
    },
    {
      "cell_type": "code",
      "source": [
        "df_usa = df_sightings[df_sightings['Country'] == 'USA ']\n",
        "df_usa"
      ],
      "metadata": {
        "colab": {
          "base_uri": "https://localhost:8080/",
          "height": 424
        },
        "id": "C7MZm9XOEANh",
        "outputId": "fe5c7a54-fe30-4163-e86a-49980c48bc8e"
      },
      "execution_count": 524,
      "outputs": [
        {
          "output_type": "execute_result",
          "data": {
            "text/html": [
              "\n",
              "  <div id=\"df-baba5819-9da3-40e3-a2dc-5cd2cee518a8\">\n",
              "    <div class=\"colab-df-container\">\n",
              "      <div>\n",
              "<style scoped>\n",
              "    .dataframe tbody tr th:only-of-type {\n",
              "        vertical-align: middle;\n",
              "    }\n",
              "\n",
              "    .dataframe tbody tr th {\n",
              "        vertical-align: top;\n",
              "    }\n",
              "\n",
              "    .dataframe thead th {\n",
              "        text-align: right;\n",
              "    }\n",
              "</style>\n",
              "<table border=\"1\" class=\"dataframe\">\n",
              "  <thead>\n",
              "    <tr style=\"text-align: right;\">\n",
              "      <th></th>\n",
              "      <th>Event.Date</th>\n",
              "      <th>Shape</th>\n",
              "      <th>Location</th>\n",
              "      <th>State</th>\n",
              "      <th>Country</th>\n",
              "      <th>Source</th>\n",
              "    </tr>\n",
              "  </thead>\n",
              "  <tbody>\n",
              "    <tr>\n",
              "      <th>0</th>\n",
              "      <td>6/18/16</td>\n",
              "      <td>Boomerang/V-Shaped</td>\n",
              "      <td>South Barrington</td>\n",
              "      <td>IL</td>\n",
              "      <td>USA</td>\n",
              "      <td>NUFORC</td>\n",
              "    </tr>\n",
              "    <tr>\n",
              "      <th>1</th>\n",
              "      <td>6/17/16</td>\n",
              "      <td>Boomerang/V-Shaped</td>\n",
              "      <td>Kuna</td>\n",
              "      <td>ID</td>\n",
              "      <td>USA</td>\n",
              "      <td>NUFORC</td>\n",
              "    </tr>\n",
              "    <tr>\n",
              "      <th>2</th>\n",
              "      <td>5/30/16</td>\n",
              "      <td>Boomerang/V-Shaped</td>\n",
              "      <td>Lake Stevens</td>\n",
              "      <td>WA</td>\n",
              "      <td>USA</td>\n",
              "      <td>NUFORC</td>\n",
              "    </tr>\n",
              "    <tr>\n",
              "      <th>3</th>\n",
              "      <td>5/27/16</td>\n",
              "      <td>Boomerang/V-Shaped</td>\n",
              "      <td>Gerber</td>\n",
              "      <td>CA</td>\n",
              "      <td>USA</td>\n",
              "      <td>NUFORC</td>\n",
              "    </tr>\n",
              "    <tr>\n",
              "      <th>4</th>\n",
              "      <td>5/24/16</td>\n",
              "      <td>Boomerang/V-Shaped</td>\n",
              "      <td>Camdenton</td>\n",
              "      <td>MO</td>\n",
              "      <td>USA</td>\n",
              "      <td>NUFORC</td>\n",
              "    </tr>\n",
              "    <tr>\n",
              "      <th>...</th>\n",
              "      <td>...</td>\n",
              "      <td>...</td>\n",
              "      <td>...</td>\n",
              "      <td>...</td>\n",
              "      <td>...</td>\n",
              "      <td>...</td>\n",
              "    </tr>\n",
              "    <tr>\n",
              "      <th>3625</th>\n",
              "      <td>6/10/75</td>\n",
              "      <td>Unknown</td>\n",
              "      <td>Millville</td>\n",
              "      <td>NJ</td>\n",
              "      <td>USA</td>\n",
              "      <td>NUFORC</td>\n",
              "    </tr>\n",
              "    <tr>\n",
              "      <th>3626</th>\n",
              "      <td>10/6/74</td>\n",
              "      <td>Unknown</td>\n",
              "      <td>New Orleans</td>\n",
              "      <td>LA</td>\n",
              "      <td>USA</td>\n",
              "      <td>NUFORC</td>\n",
              "    </tr>\n",
              "    <tr>\n",
              "      <th>3627</th>\n",
              "      <td>5/1/74</td>\n",
              "      <td>Unknown</td>\n",
              "      <td>Philippi</td>\n",
              "      <td>WV</td>\n",
              "      <td>USA</td>\n",
              "      <td>NUFORC</td>\n",
              "    </tr>\n",
              "    <tr>\n",
              "      <th>3628</th>\n",
              "      <td>8/31/71</td>\n",
              "      <td>Unknown</td>\n",
              "      <td>Los Banos</td>\n",
              "      <td>CA</td>\n",
              "      <td>USA</td>\n",
              "      <td>MUFON</td>\n",
              "    </tr>\n",
              "    <tr>\n",
              "      <th>3629</th>\n",
              "      <td>6/1/66</td>\n",
              "      <td>Unknown</td>\n",
              "      <td>Washington</td>\n",
              "      <td>IN</td>\n",
              "      <td>USA</td>\n",
              "      <td>NUFORC</td>\n",
              "    </tr>\n",
              "  </tbody>\n",
              "</table>\n",
              "<p>3433 rows × 6 columns</p>\n",
              "</div>\n",
              "      <button class=\"colab-df-convert\" onclick=\"convertToInteractive('df-baba5819-9da3-40e3-a2dc-5cd2cee518a8')\"\n",
              "              title=\"Convert this dataframe to an interactive table.\"\n",
              "              style=\"display:none;\">\n",
              "        \n",
              "  <svg xmlns=\"http://www.w3.org/2000/svg\" height=\"24px\"viewBox=\"0 0 24 24\"\n",
              "       width=\"24px\">\n",
              "    <path d=\"M0 0h24v24H0V0z\" fill=\"none\"/>\n",
              "    <path d=\"M18.56 5.44l.94 2.06.94-2.06 2.06-.94-2.06-.94-.94-2.06-.94 2.06-2.06.94zm-11 1L8.5 8.5l.94-2.06 2.06-.94-2.06-.94L8.5 2.5l-.94 2.06-2.06.94zm10 10l.94 2.06.94-2.06 2.06-.94-2.06-.94-.94-2.06-.94 2.06-2.06.94z\"/><path d=\"M17.41 7.96l-1.37-1.37c-.4-.4-.92-.59-1.43-.59-.52 0-1.04.2-1.43.59L10.3 9.45l-7.72 7.72c-.78.78-.78 2.05 0 2.83L4 21.41c.39.39.9.59 1.41.59.51 0 1.02-.2 1.41-.59l7.78-7.78 2.81-2.81c.8-.78.8-2.07 0-2.86zM5.41 20L4 18.59l7.72-7.72 1.47 1.35L5.41 20z\"/>\n",
              "  </svg>\n",
              "      </button>\n",
              "      \n",
              "  <style>\n",
              "    .colab-df-container {\n",
              "      display:flex;\n",
              "      flex-wrap:wrap;\n",
              "      gap: 12px;\n",
              "    }\n",
              "\n",
              "    .colab-df-convert {\n",
              "      background-color: #E8F0FE;\n",
              "      border: none;\n",
              "      border-radius: 50%;\n",
              "      cursor: pointer;\n",
              "      display: none;\n",
              "      fill: #1967D2;\n",
              "      height: 32px;\n",
              "      padding: 0 0 0 0;\n",
              "      width: 32px;\n",
              "    }\n",
              "\n",
              "    .colab-df-convert:hover {\n",
              "      background-color: #E2EBFA;\n",
              "      box-shadow: 0px 1px 2px rgba(60, 64, 67, 0.3), 0px 1px 3px 1px rgba(60, 64, 67, 0.15);\n",
              "      fill: #174EA6;\n",
              "    }\n",
              "\n",
              "    [theme=dark] .colab-df-convert {\n",
              "      background-color: #3B4455;\n",
              "      fill: #D2E3FC;\n",
              "    }\n",
              "\n",
              "    [theme=dark] .colab-df-convert:hover {\n",
              "      background-color: #434B5C;\n",
              "      box-shadow: 0px 1px 3px 1px rgba(0, 0, 0, 0.15);\n",
              "      filter: drop-shadow(0px 1px 2px rgba(0, 0, 0, 0.3));\n",
              "      fill: #FFFFFF;\n",
              "    }\n",
              "  </style>\n",
              "\n",
              "      <script>\n",
              "        const buttonEl =\n",
              "          document.querySelector('#df-baba5819-9da3-40e3-a2dc-5cd2cee518a8 button.colab-df-convert');\n",
              "        buttonEl.style.display =\n",
              "          google.colab.kernel.accessAllowed ? 'block' : 'none';\n",
              "\n",
              "        async function convertToInteractive(key) {\n",
              "          const element = document.querySelector('#df-baba5819-9da3-40e3-a2dc-5cd2cee518a8');\n",
              "          const dataTable =\n",
              "            await google.colab.kernel.invokeFunction('convertToInteractive',\n",
              "                                                     [key], {});\n",
              "          if (!dataTable) return;\n",
              "\n",
              "          const docLinkHtml = 'Like what you see? Visit the ' +\n",
              "            '<a target=\"_blank\" href=https://colab.research.google.com/notebooks/data_table.ipynb>data table notebook</a>'\n",
              "            + ' to learn more about interactive tables.';\n",
              "          element.innerHTML = '';\n",
              "          dataTable['output_type'] = 'display_data';\n",
              "          await google.colab.output.renderOutput(dataTable, element);\n",
              "          const docLink = document.createElement('div');\n",
              "          docLink.innerHTML = docLinkHtml;\n",
              "          element.appendChild(docLink);\n",
              "        }\n",
              "      </script>\n",
              "    </div>\n",
              "  </div>\n",
              "  "
            ],
            "text/plain": [
              "     Event.Date                Shape           Location State Country  Source\n",
              "0       6/18/16  Boomerang/V-Shaped   South Barrington    IL     USA   NUFORC\n",
              "1       6/17/16  Boomerang/V-Shaped               Kuna    ID     USA   NUFORC\n",
              "2       5/30/16  Boomerang/V-Shaped       Lake Stevens    WA     USA   NUFORC\n",
              "3       5/27/16  Boomerang/V-Shaped             Gerber    CA     USA   NUFORC\n",
              "4       5/24/16  Boomerang/V-Shaped          Camdenton    MO     USA   NUFORC\n",
              "...         ...                  ...                ...   ...     ...     ...\n",
              "3625    6/10/75             Unknown          Millville    NJ     USA   NUFORC\n",
              "3626    10/6/74             Unknown        New Orleans    LA     USA   NUFORC\n",
              "3627     5/1/74             Unknown           Philippi    WV     USA   NUFORC\n",
              "3628    8/31/71             Unknown          Los Banos    CA     USA    MUFON\n",
              "3629     6/1/66             Unknown         Washington    IN     USA   NUFORC\n",
              "\n",
              "[3433 rows x 6 columns]"
            ]
          },
          "metadata": {},
          "execution_count": 524
        }
      ]
    },
    {
      "cell_type": "code",
      "source": [
        "df_state = df_usa['State'].drop_duplicates().dropna()\n",
        "df_state\n",
        "for state in (df_state):\n",
        "  if (state != '?? '):\n",
        "    print(state)\n",
        "\n"
      ],
      "metadata": {
        "colab": {
          "base_uri": "https://localhost:8080/"
        },
        "id": "rHa5Yak6ZVgv",
        "outputId": "08bdbcb2-ea64-46c3-bdfb-59c49d6fa1b5"
      },
      "execution_count": 525,
      "outputs": [
        {
          "output_type": "stream",
          "name": "stdout",
          "text": [
            "IL \n",
            "ID \n",
            "WA \n",
            "CA \n",
            "MO \n",
            "FL \n",
            "UT \n",
            "MD \n",
            "DC \n",
            "AZ \n",
            "MN \n",
            "NM \n",
            "NY \n",
            "CO \n",
            "IA \n",
            "NJ \n",
            "LA \n",
            "OR \n",
            "AR \n",
            "OH \n",
            "SC \n",
            "HI \n",
            "KY \n",
            "NC \n",
            "PA \n",
            "IN \n",
            "MS \n",
            "MA \n",
            "VA \n",
            "RI \n",
            "NV \n",
            "ME \n",
            "GA \n",
            "AL \n",
            "TX \n",
            "WI \n",
            "NH \n",
            "MT \n",
            "AK \n",
            "TN \n",
            "ND \n",
            "MI \n",
            "CT \n",
            "KS \n",
            "SD \n",
            "NE \n",
            "DE \n",
            "OK \n",
            "VT \n",
            "WY \n",
            "WV \n"
          ]
        }
      ]
    },
    {
      "cell_type": "markdown",
      "metadata": {
        "id": "Z2FFElAhVFw1"
      },
      "source": [
        "### Question 6\n",
        "\n",
        "List the different observed UFO shapes and the number of times that they occur in the data frame (hint see [value_counts](https://pandas.pydata.org/pandas-docs/stable/reference/api/pandas.Series.value_counts.html). The answer will be in text format with one type of shape followed by the number of occurances per line. "
      ]
    },
    {
      "cell_type": "code",
      "source": [
        "df_shape = df_sightings['Shape']\n",
        "df_shape\n",
        "\n",
        "df_shape.value_counts()\n"
      ],
      "metadata": {
        "colab": {
          "base_uri": "https://localhost:8080/"
        },
        "id": "bKfTDhZAZUbe",
        "outputId": "26310c88-56aa-4609-8db1-541a561dd4e1"
      },
      "execution_count": 526,
      "outputs": [
        {
          "output_type": "execute_result",
          "data": {
            "text/plain": [
              "Lights Only            1023\n",
              "Circle                  451\n",
              "Orb/Sphere              347\n",
              "Triangle                336\n",
              "Fireball                294\n",
              "Unknown                 257\n",
              "Other                   239\n",
              "Disk                    178\n",
              "Cigar/Cylinder          138\n",
              "Oval                    129\n",
              "Rectangle                68\n",
              "Diamond                  57\n",
              "Boomerang/V-Shaped       38\n",
              "Teardrop                 36\n",
              "Egg                      19\n",
              "Cone                     17\n",
              "Cross                    14\n",
              "Pyramid                   2\n",
              "Sphere                    1\n",
              "Square                    1\n",
              "Missile/Rocket            1\n",
              "Name: Shape, dtype: int64"
            ]
          },
          "metadata": {},
          "execution_count": 526
        }
      ]
    },
    {
      "cell_type": "markdown",
      "metadata": {
        "id": "AX4wfmtiVFw2"
      },
      "source": [
        "### Question 7\n",
        "\n",
        "Create a bar chart showing the number of sightings in each country. The x axis should be country and the y axis should be number of sightings.\n",
        "        \n",
        "Your axis should be legible, and labeled correctly.\n",
        "\n",
        "Sort the countries by most sightings, to least sightings.  For the top three countries, annotate the bar chart to show the number of sightings, and adjust the y limits such that you are only showing the detail from 0-16 sightings. \n",
        "\n",
        "There are multiple ways to solve this, and I used [figure](https://matplotlib.org/3.3.3/api/_as_gen/matplotlib.pyplot.figure.html) to adjust the size of my plot, [ylim](https://matplotlib.org/3.3.3/api/_as_gen/matplotlib.pyplot.ylim.html) to control the y limits of the histogram, [value_counts](https://pandas.pydata.org/pandas-docs/stable/reference/api/pandas.Series.value_counts.html) to create the data, [bar](https://matplotlib.org/3.3.3/api/_as_gen/matplotlib.pyplot.bar.html) to chart the data, [xticks](https://matplotlib.org/3.3.3/api/_as_gen/matplotlib.pyplot.xticks.html#matplotlib.pyplot.xticks) to set the tick labels, [arrange](https://numpy.org/doc/stable/reference/generated/numpy.arange.html) to create x coordinates for the countries and control the tick locations, [text](https://matplotlib.org/3.3.3/api/_as_gen/matplotlib.pyplot.text.html) to annotate the graph for the top three country sighting counts, and [ylabel](https://matplotlib.org/3.3.3/api/_as_gen/matplotlib.pyplot.ylabel.html) [title](https://matplotlib.org/3.3.3/api/_as_gen/matplotlib.pyplot.title.html) to set the ylabel and title of the plot.  "
      ]
    },
    {
      "cell_type": "code",
      "source": [
        "#counts = df_countries['Country'].value_counts()\n",
        "counts.keys()\n",
        "x_pos = np.arange(len(counts.keys()))\n",
        "plt.figure(num = 1,figsize = (25,20))\n",
        "plt.bar(x_pos,counts.values, .85, color='lightblue', align='center', alpha=1)\n",
        "plt.xlabel(\"Country\",fontsize = 'xx-large' )\n",
        "plt.ylabel(\"Sightings\", fontsize = 'xx-large')\n",
        "plt.title(\"UFO Sightings per Country\", fontsize = 'xx-large')\n",
        "plt.ylim((0,16))\n",
        "plt.xlim((-1,x_pos[-1]+1))\n",
        "plt.xticks(x_pos, counts.keys(), fontsize = 'xx-large', rotation ='vertical')\n",
        "for i in range(3):\n",
        "  plt.text(x_pos[i], 2, str(counts.values[i]), rotation ='vertical',horizontalalignment = 'center', fontsize = 'xx-large', color = 'black')\n",
        "plt.show()"
      ],
      "metadata": {
        "colab": {
          "base_uri": "https://localhost:8080/",
          "height": 1000
        },
        "id": "c6fu9VZUTmJG",
        "outputId": "b491debb-a311-4884-8810-dc4a627cf491"
      },
      "execution_count": 527,
      "outputs": [
        {
          "output_type": "display_data",
          "data": {
            "image/png": "[encoded data removed]",
            "text/plain": [
              "<Figure size 1800x1440 with 1 Axes>"
            ]
          },
          "metadata": {
            "needs_background": "light"
          }
        }
      ]
    },
    {
      "cell_type": "markdown",
      "metadata": {
        "id": "-aiI94sAVFw_"
      },
      "source": [
        "### Question 8\n",
        "\n",
        "Create a stacked bar chart showing the top 7 UFO shapes for the ten states with the highest number of sightings. Start by finding the ten states with the highest number of sightings. Given those 10 states, find the top 7 most frequent UFO shapes. Then for each state plot a stacked bar where each color of the stack corresponds to the number of sightings in that state for a particular UFO shape. Label the x-axis with the State abbreviation. \n",
        "\n",
        "There is an [example](https://matplotlib.org/3.2.2/gallery/lines_bars_and_markers/bar_stacked.html) of a stacked bar chart available in the documentation. \n",
        "\n",
        "Use the color brewer website from the class slides to pick 7 colors to override the matplotlib defaults for the bars."
      ]
    },
    {
      "cell_type": "code",
      "execution_count": 528,
      "metadata": {
        "id": "tcubxMJ5VFw_",
        "colab": {
          "base_uri": "https://localhost:8080/"
        },
        "outputId": "c91515ae-11be-40e9-bd64-3b50490776b2"
      },
      "outputs": [
        {
          "output_type": "execute_result",
          "data": {
            "text/plain": [
              "CA     357\n",
              "FL     266\n",
              "AZ     174\n",
              "WA     161\n",
              "NY     145\n",
              "NC     132\n",
              "PA     126\n",
              "CO     125\n",
              "IL     111\n",
              "OR     104\n",
              "TX     100\n",
              "OH      91\n",
              "MO      86\n",
              "MI      84\n",
              "NJ      77\n",
              "SC      73\n",
              "MN      66\n",
              "VA      65\n",
              "WI      65\n",
              "NM      63\n",
              "TN      61\n",
              "GA      60\n",
              "MD      59\n",
              "MA      59\n",
              "IN      53\n",
              "ID      48\n",
              "NV      44\n",
              "CT      43\n",
              "UT      42\n",
              "KY      41\n",
              "ME      41\n",
              "NH      35\n",
              "AL      34\n",
              "MT      32\n",
              "LA      32\n",
              "KS      30\n",
              "IA      29\n",
              "OK      29\n",
              "AK      29\n",
              "AR      21\n",
              "MS      20\n",
              "RI      20\n",
              "WV      18\n",
              "HI      15\n",
              "DE      15\n",
              "VT      13\n",
              "NE      10\n",
              "ND       9\n",
              "SD       8\n",
              "WY       5\n",
              "DC       3\n",
              "??       1\n",
              "Name: State, dtype: int64"
            ]
          },
          "metadata": {},
          "execution_count": 528
        }
      ],
      "source": [
        "# Start by finding the ten states with the highest number of sightings\n",
        "\n",
        "df_usa['State'].value_counts()\n"
      ]
    },
    {
      "cell_type": "code",
      "source": [
        "# Start by finding the ten states with the highest number of sightings\n",
        "top_ten = df_usa['State'].value_counts().head(10)\n",
        "top_ten"
      ],
      "metadata": {
        "colab": {
          "base_uri": "https://localhost:8080/"
        },
        "id": "gjTUxDtmiMCp",
        "outputId": "88d560ce-19ec-4ca6-9a58-b83f76dd4e25"
      },
      "execution_count": 529,
      "outputs": [
        {
          "output_type": "execute_result",
          "data": {
            "text/plain": [
              "CA     357\n",
              "FL     266\n",
              "AZ     174\n",
              "WA     161\n",
              "NY     145\n",
              "NC     132\n",
              "PA     126\n",
              "CO     125\n",
              "IL     111\n",
              "OR     104\n",
              "Name: State, dtype: int64"
            ]
          },
          "metadata": {},
          "execution_count": 529
        }
      ]
    },
    {
      "cell_type": "code",
      "source": [
        "# Given those 10 states, find the top 7 most frequent UFO shapes\n",
        "\n",
        "top_states_and_shapes = df_usa[['State','Shape']]\n",
        "top_states_and_shapes\n",
        "top_ten = top_states_and_shapes['State'].value_counts().head(10)\n",
        "top_ten\n",
        "top_7_shapes = top_states_and_shapes['Shape'].value_counts().head(7)\n",
        "top_7_shapes\n",
        "\n",
        "\n"
      ],
      "metadata": {
        "colab": {
          "base_uri": "https://localhost:8080/"
        },
        "id": "NI9WnWXV3HQN",
        "outputId": "2c7e3bea-b0b2-4b6a-d689-e14e7eaf928f"
      },
      "execution_count": 530,
      "outputs": [
        {
          "output_type": "execute_result",
          "data": {
            "text/plain": [
              "Lights Only     953\n",
              "Circle          428\n",
              "Orb/Sphere      323\n",
              "Triangle        315\n",
              "Fireball        291\n",
              "Unknown         241\n",
              "Other           226\n",
              "Name: Shape, dtype: int64"
            ]
          },
          "metadata": {},
          "execution_count": 530
        }
      ]
    },
    {
      "cell_type": "code",
      "source": [
        "from matplotlib import colors\n",
        "#Then for each state plot a stacked bar where each color of the stack corresponds to the number of sightings in that state for a particular UFO shape. \n",
        "#Label the x-axis with the State abbreviation.\n",
        "\n",
        "top_states_and_shapes = df_usa[['State','Shape']]\n",
        "top_states_and_shapes\n",
        "top_ten = top_states_and_shapes['State'].value_counts().head(10)\n",
        "top_ten\n",
        "top_7_shapes = top_states_and_shapes['Shape'].value_counts().head(7)\n",
        "top_7_shapes\n",
        "shape_keys = top_7_shapes.keys()\n",
        "state_keys = top_ten.keys()\n",
        "\n",
        "fig, ax = plt.subplots()\n",
        "\n",
        "for i in shape_keys:\n",
        "    state_count = []\n",
        "    for j in state_keys:\n",
        "        count = len(top_states_and_shapes[(top_states_and_shapes['State'] == j) & (top_states_and_shapes['Shape'] == i)])\n",
        "        state_count.append(count)\n",
        "    ax.bar(state_keys, state_count, 0.90, label=str(i))\n",
        "    state_count = []\n",
        "\n",
        "\n",
        "ax.set_ylabel('Sightings')\n",
        "ax.set_title('Sightings by State')\n",
        "ax.legend()\n",
        "#color = (['red','blue','orange'])\n",
        "#rgb\n",
        "color = ('197,27,125','233,163,201','253,224,239','247,247,247','230,245,208','161,215,106','77,146,33')\n",
        "color = ((197,27,125),(233,163,201),(253,224,239),(247,247,247),(230,245,208),(161,215,106),(77,146,33))\n",
        "\n",
        "\n",
        "plt.show()\n",
        "\n"
      ],
      "metadata": {
        "colab": {
          "base_uri": "https://localhost:8080/",
          "height": 281
        },
        "id": "cHPGzCcA4ZKN",
        "outputId": "f3377418-a736-4a88-d9d5-3355bc57b0b5"
      },
      "execution_count": 531,
      "outputs": [
        {
          "output_type": "display_data",
          "data": {
            "image/png": "[encoded data removed]",
            "text/plain": [
              "<Figure size 432x288 with 1 Axes>"
            ]
          },
          "metadata": {
            "needs_background": "light"
          }
        }
      ]
    }
  ],
  "metadata": {
    "kernelspec": {
      "display_name": "Python 3",
      "language": "python",
      "name": "python3"
    },
    "language_info": {
      "codemirror_mode": {
        "name": "ipython",
        "version": 3
      },
      "file_extension": ".py",
      "mimetype": "text/x-python",
      "name": "python",
      "nbconvert_exporter": "python",
      "pygments_lexer": "ipython3",
      "version": "3.8.3"
    },
    "colab": {
      "name": "hw2_visualization.ipynb",
      "provenance": []
    }
  },
  "nbformat": 4,
  "nbformat_minor": 0
}